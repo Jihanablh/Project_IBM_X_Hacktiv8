{
  "nbformat": 4,
  "nbformat_minor": 0,
  "metadata": {
    "colab": {
      "provenance": [],
      "authorship_tag": "ABX9TyNcsZSRPO9SjI5GaZsMOqPU",
      "include_colab_link": true
    },
    "kernelspec": {
      "name": "python3",
      "display_name": "Python 3"
    },
    "language_info": {
      "name": "python"
    }
  },
  "cells": [
    {
      "cell_type": "markdown",
      "metadata": {
        "id": "view-in-github",
        "colab_type": "text"
      },
      "source": [
        "<a href=\"https://colab.research.google.com/github/Jihanablh/Project_IBM_X_Hacktiv8/blob/main/covid_analysis.ipynb\" target=\"_parent\"><img src=\"https://colab.research.google.com/assets/colab-badge.svg\" alt=\"Open In Colab\"/></a>"
      ]
    },
    {
      "cell_type": "code",
      "execution_count": null,
      "metadata": {
        "id": "sMrt485pbuXS"
      },
      "outputs": [],
      "source": [
        "import pandas as pd\n",
        "import matplotlib.pyplot as plt\n",
        "import seaborn as sns\n",
        "from sklearn.linear_model import LinearRegression\n",
        "\n",
        "# Step 1: Load compact latest dataset\n",
        "url = \"https://covid.ourworldindata.org/data/latest/owid-covid-latest.csv\"\n",
        "df = pd.read_csv(url)\n",
        "\n",
        "# Step 2: Pilih kolom penting dan drop NA\n",
        "df = df[['location', 'people_fully_vaccinated_per_hundred', 'total_deaths_per_million']].dropna()\n",
        "\n",
        "# Step 3: Tampilkan 10 data pertama\n",
        "print(df.head(10))\n",
        "\n",
        "# Step 4: Korelasi\n",
        "corr = df['people_fully_vaccinated_per_hundred'].corr(df['total_deaths_per_million'])\n",
        "print(f\"\\nKorelasi vaksinasi vs kematian: {corr:.2f}\")\n",
        "\n",
        "# Step 5: Visualisasi\n",
        "plt.figure(figsize=(10,6))\n",
        "sns.scatterplot(data=df,\n",
        "                x='people_fully_vaccinated_per_hundred',\n",
        "                y='total_deaths_per_million')\n",
        "plt.title('Vaksinasi vs Kematian COVID-19 (Data Terkini)')\n",
        "plt.xlabel('Vaksinasi per 100 orang')\n",
        "plt.ylabel('Kematian per juta orang')\n",
        "plt.grid(True)\n",
        "plt.show()\n",
        "\n",
        "# Step 6: Linear Regression\n",
        "X = df[['people_fully_vaccinated_per_hundred']]\n",
        "y = df['total_deaths_per_million']\n",
        "model = LinearRegression()\n",
        "model.fit(X, y)\n",
        "print(f\"\\nModel Linear: y = {model.coef_[0]:.2f}x + {model.intercept_:.2f}\")"
      ]
    }
  ]
}